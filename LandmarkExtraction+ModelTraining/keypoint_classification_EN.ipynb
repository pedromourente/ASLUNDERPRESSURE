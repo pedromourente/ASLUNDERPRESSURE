{
  "cells": [
    {
      "cell_type": "code",
      "execution_count": 2,
      "metadata": {
        "id": "igMyGnjE9hEp"
      },
      "outputs": [],
      "source": [
        "import csv\n",
        "\n",
        "import numpy as np\n",
        "import tensorflow as tf\n",
        "from sklearn.model_selection import train_test_split\n",
        "\n",
        "RANDOM_SEED = 42\n",
        "%load_ext tensorboard\n",
        "import tensorboard\n",
        "tensorboard.__version__\n",
        "from datetime import datetime\n"
      ]
    },
    {
      "cell_type": "markdown",
      "metadata": {
        "id": "t2HDvhIu9hEr"
      },
      "source": [
        "# Specify each path"
      ]
    },
    {
      "cell_type": "code",
      "execution_count": 3,
      "metadata": {
        "id": "9NvZP2Zn9hEy"
      },
      "outputs": [],
      "source": [
        "dataset = 'model/keypoint_classifier/keypoint.csv'\n",
        "model_save_path = 'model/keypoint_classifier/keypoint_classifier.hdf5'\n",
        "tflite_save_path = 'model/keypoint_classifier/keypoint_classifier.tflite'"
      ]
    },
    {
      "cell_type": "markdown",
      "metadata": {
        "id": "s5oMH7x19hEz"
      },
      "source": [
        "# Set number of classes"
      ]
    },
    {
      "cell_type": "code",
      "execution_count": 4,
      "metadata": {
        "id": "du4kodXL9hEz"
      },
      "outputs": [],
      "source": [
        "NUM_CLASSES = 26"
      ]
    },
    {
      "cell_type": "markdown",
      "metadata": {
        "id": "XjnL0uso9hEz"
      },
      "source": [
        "# Dataset reading"
      ]
    },
    {
      "cell_type": "code",
      "execution_count": 5,
      "metadata": {
        "id": "QT5ZqtEz9hE0"
      },
      "outputs": [],
      "source": [
        "X_dataset = np.loadtxt(dataset, delimiter=',', dtype='float32', usecols=list(range(1, (21 * 2) + 1)))"
      ]
    },
    {
      "cell_type": "code",
      "execution_count": 6,
      "metadata": {
        "id": "QmoKFsp49hE0"
      },
      "outputs": [],
      "source": [
        "y_dataset = np.loadtxt(dataset, delimiter=',', dtype='int32', usecols=(0))"
      ]
    },
    {
      "cell_type": "code",
      "execution_count": 7,
      "metadata": {
        "id": "xQU7JTZ_9hE0"
      },
      "outputs": [],
      "source": [
        "X_train, X_test, y_train, y_test = train_test_split(X_dataset, y_dataset, train_size=0.75, random_state=RANDOM_SEED)"
      ]
    },
    {
      "cell_type": "markdown",
      "metadata": {
        "id": "mxK_lETT9hE0"
      },
      "source": [
        "# Model building"
      ]
    },
    {
      "cell_type": "code",
      "execution_count": 154,
      "metadata": {
        "id": "vHBmUf1t9hE1"
      },
      "outputs": [],
      "source": [
        "model = tf.keras.models.Sequential([\n",
        "    tf.keras.layers.Input((21 * 2, )),\n",
        "    tf.keras.layers.Dropout(0.2),\n",
        "    tf.keras.layers.Dense(20, activation='relu'),\n",
        "    tf.keras.layers.Dense(NUM_CLASSES, activation='softmax')\n",
        "])"
      ]
    },
    {
      "cell_type": "code",
      "execution_count": 155,
      "metadata": {
        "colab": {
          "base_uri": "https://localhost:8080/"
        },
        "id": "ypqky9tc9hE1",
        "outputId": "5db082bb-30e3-4110-bf63-a1ee777ecd46"
      },
      "outputs": [
        {
          "name": "stdout",
          "output_type": "stream",
          "text": [
            "Model: \"sequential_6\"\n",
            "_________________________________________________________________\n",
            " Layer (type)                Output Shape              Param #   \n",
            "=================================================================\n",
            " dropout_8 (Dropout)         (None, 42)                0         \n",
            "                                                                 \n",
            " dense_14 (Dense)            (None, 20)                860       \n",
            "                                                                 \n",
            " dropout_9 (Dropout)         (None, 20)                0         \n",
            "                                                                 \n",
            " dense_15 (Dense)            (None, 10)                210       \n",
            "                                                                 \n",
            " dense_16 (Dense)            (None, 26)                286       \n",
            "                                                                 \n",
            "=================================================================\n",
            "Total params: 1,356\n",
            "Trainable params: 1,356\n",
            "Non-trainable params: 0\n",
            "_________________________________________________________________\n"
          ]
        }
      ],
      "source": [
        "model.summary()  # tf.keras.utils.plot_model(model, show_shapes=True)"
      ]
    },
    {
      "cell_type": "code",
      "execution_count": 156,
      "metadata": {
        "id": "MbMjOflQ9hE1"
      },
      "outputs": [],
      "source": [
        "# Model checkpoint callback\n",
        "cp_callback = tf.keras.callbacks.ModelCheckpoint(\n",
        "    model_save_path, verbose=1, save_weights_only=False)\n",
        "# Callback for early stopping\n",
        "es_callback = tf.keras.callbacks.EarlyStopping(patience=20, verbose=1)"
      ]
    },
    {
      "cell_type": "code",
      "execution_count": 157,
      "metadata": {
        "id": "c3Dac0M_9hE2"
      },
      "outputs": [],
      "source": [
        "# Model compilation\n",
        "model.compile(\n",
        "    optimizer='rmsprop',\n",
        "    loss='sparse_categorical_crossentropy',\n",
        "    metrics=['accuracy']\n",
        ")"
      ]
    },
    {
      "cell_type": "code",
      "execution_count": 158,
      "metadata": {},
      "outputs": [],
      "source": [
        "logdir=\"logs/fit/\" + datetime.now().strftime(\"%Y%m%d-%H%M%S\")\n",
        "tensorboard_callback = tf.keras.callbacks.TensorBoard(log_dir=logdir)"
      ]
    },
    {
      "cell_type": "markdown",
      "metadata": {
        "id": "7XI0j1Iu9hE2"
      },
      "source": [
        "# Model training"
      ]
    },
    {
      "cell_type": "code",
      "execution_count": 159,
      "metadata": {
        "colab": {
          "base_uri": "https://localhost:8080/"
        },
        "id": "WirBl-JE9hE3",
        "outputId": "71b30ca2-8294-4d9d-8aa2-800d90d399de",
        "scrolled": true
      },
      "outputs": [
        {
          "name": "stdout",
          "output_type": "stream",
          "text": [
            "Epoch 1/1000\n",
            "117/128 [==========================>...] - ETA: 0s - loss: 3.1686 - accuracy: 0.0982\n",
            "Epoch 1: saving model to model/keypoint_classifier\\keypoint_classifier.hdf5\n",
            "128/128 [==============================] - 1s 6ms/step - loss: 3.1587 - accuracy: 0.1015 - val_loss: 3.0142 - val_accuracy: 0.1344\n",
            "Epoch 2/1000\n",
            "121/128 [===========================>..] - ETA: 0s - loss: 2.9343 - accuracy: 0.1518\n",
            "Epoch 2: saving model to model/keypoint_classifier\\keypoint_classifier.hdf5\n",
            "128/128 [==============================] - 1s 5ms/step - loss: 2.9289 - accuracy: 0.1530 - val_loss: 2.7256 - val_accuracy: 0.2202\n",
            "Epoch 3/1000\n",
            "119/128 [==========================>...] - ETA: 0s - loss: 2.7260 - accuracy: 0.1888\n",
            "Epoch 3: saving model to model/keypoint_classifier\\keypoint_classifier.hdf5\n",
            "128/128 [==============================] - 1s 4ms/step - loss: 2.7204 - accuracy: 0.1891 - val_loss: 2.4421 - val_accuracy: 0.3368\n",
            "Epoch 4/1000\n",
            "126/128 [============================>.] - ETA: 0s - loss: 2.5325 - accuracy: 0.2214\n",
            "Epoch 4: saving model to model/keypoint_classifier\\keypoint_classifier.hdf5\n",
            "128/128 [==============================] - 1s 4ms/step - loss: 2.5302 - accuracy: 0.2218 - val_loss: 2.1633 - val_accuracy: 0.4194\n",
            "Epoch 5/1000\n",
            "115/128 [=========================>....] - ETA: 0s - loss: 2.3784 - accuracy: 0.2527\n",
            "Epoch 5: saving model to model/keypoint_classifier\\keypoint_classifier.hdf5\n",
            "128/128 [==============================] - 1s 4ms/step - loss: 2.3694 - accuracy: 0.2566 - val_loss: 1.9442 - val_accuracy: 0.5437\n",
            "Epoch 6/1000\n",
            "125/128 [============================>.] - ETA: 0s - loss: 2.2487 - accuracy: 0.2845\n",
            "Epoch 6: saving model to model/keypoint_classifier\\keypoint_classifier.hdf5\n",
            "128/128 [==============================] - 0s 4ms/step - loss: 2.2482 - accuracy: 0.2842 - val_loss: 1.7678 - val_accuracy: 0.6025\n",
            "Epoch 7/1000\n",
            "123/128 [===========================>..] - ETA: 0s - loss: 2.1685 - accuracy: 0.2971\n",
            "Epoch 7: saving model to model/keypoint_classifier\\keypoint_classifier.hdf5\n",
            "128/128 [==============================] - 0s 4ms/step - loss: 2.1658 - accuracy: 0.2981 - val_loss: 1.6535 - val_accuracy: 0.6393\n",
            "Epoch 8/1000\n",
            "119/128 [==========================>...] - ETA: 0s - loss: 2.1042 - accuracy: 0.3202\n",
            "Epoch 8: saving model to model/keypoint_classifier\\keypoint_classifier.hdf5\n",
            "128/128 [==============================] - 0s 4ms/step - loss: 2.1043 - accuracy: 0.3211 - val_loss: 1.5825 - val_accuracy: 0.6583\n",
            "Epoch 9/1000\n",
            "124/128 [============================>.] - ETA: 0s - loss: 2.0554 - accuracy: 0.3310\n",
            "Epoch 9: saving model to model/keypoint_classifier\\keypoint_classifier.hdf5\n",
            "128/128 [==============================] - 0s 4ms/step - loss: 2.0530 - accuracy: 0.3319 - val_loss: 1.5050 - val_accuracy: 0.7400\n",
            "Epoch 10/1000\n",
            "126/128 [============================>.] - ETA: 0s - loss: 2.0387 - accuracy: 0.3356\n",
            "Epoch 10: saving model to model/keypoint_classifier\\keypoint_classifier.hdf5\n",
            "128/128 [==============================] - 0s 4ms/step - loss: 2.0376 - accuracy: 0.3365 - val_loss: 1.4758 - val_accuracy: 0.7290\n",
            "Epoch 11/1000\n",
            "112/128 [=========================>....] - ETA: 0s - loss: 1.9932 - accuracy: 0.3464\n",
            "Epoch 11: saving model to model/keypoint_classifier\\keypoint_classifier.hdf5\n",
            "128/128 [==============================] - 0s 4ms/step - loss: 1.9877 - accuracy: 0.3488 - val_loss: 1.4274 - val_accuracy: 0.7170\n",
            "Epoch 12/1000\n",
            "126/128 [============================>.] - ETA: 0s - loss: 1.9484 - accuracy: 0.3580\n",
            "Epoch 12: saving model to model/keypoint_classifier\\keypoint_classifier.hdf5\n",
            "128/128 [==============================] - 0s 4ms/step - loss: 1.9470 - accuracy: 0.3580 - val_loss: 1.4053 - val_accuracy: 0.7177\n",
            "Epoch 13/1000\n",
            "126/128 [============================>.] - ETA: 0s - loss: 1.9253 - accuracy: 0.3610\n",
            "Epoch 13: saving model to model/keypoint_classifier\\keypoint_classifier.hdf5\n",
            "128/128 [==============================] - 0s 4ms/step - loss: 1.9263 - accuracy: 0.3612 - val_loss: 1.3833 - val_accuracy: 0.7730\n",
            "Epoch 14/1000\n",
            "118/128 [==========================>...] - ETA: 0s - loss: 1.8981 - accuracy: 0.3769\n",
            "Epoch 14: saving model to model/keypoint_classifier\\keypoint_classifier.hdf5\n",
            "128/128 [==============================] - 0s 4ms/step - loss: 1.8983 - accuracy: 0.3774 - val_loss: 1.3565 - val_accuracy: 0.7616\n",
            "Epoch 15/1000\n",
            "118/128 [==========================>...] - ETA: 0s - loss: 1.8847 - accuracy: 0.3747\n",
            "Epoch 15: saving model to model/keypoint_classifier\\keypoint_classifier.hdf5\n",
            "128/128 [==============================] - 1s 4ms/step - loss: 1.8863 - accuracy: 0.3742 - val_loss: 1.3315 - val_accuracy: 0.7223\n",
            "Epoch 16/1000\n",
            "114/128 [=========================>....] - ETA: 0s - loss: 1.8611 - accuracy: 0.3789\n",
            "Epoch 16: saving model to model/keypoint_classifier\\keypoint_classifier.hdf5\n",
            "128/128 [==============================] - 1s 4ms/step - loss: 1.8674 - accuracy: 0.3763 - val_loss: 1.3238 - val_accuracy: 0.7584\n",
            "Epoch 17/1000\n",
            "128/128 [==============================] - ETA: 0s - loss: 1.8488 - accuracy: 0.3881\n",
            "Epoch 17: saving model to model/keypoint_classifier\\keypoint_classifier.hdf5\n",
            "128/128 [==============================] - 0s 4ms/step - loss: 1.8488 - accuracy: 0.3881 - val_loss: 1.2770 - val_accuracy: 0.8056\n",
            "Epoch 18/1000\n",
            "120/128 [===========================>..] - ETA: 0s - loss: 1.8217 - accuracy: 0.3857\n",
            "Epoch 18: saving model to model/keypoint_classifier\\keypoint_classifier.hdf5\n",
            "128/128 [==============================] - 0s 4ms/step - loss: 1.8239 - accuracy: 0.3859 - val_loss: 1.2655 - val_accuracy: 0.7500\n",
            "Epoch 19/1000\n",
            "114/128 [=========================>....] - ETA: 0s - loss: 1.8199 - accuracy: 0.3914\n",
            "Epoch 19: saving model to model/keypoint_classifier\\keypoint_classifier.hdf5\n",
            "128/128 [==============================] - 1s 4ms/step - loss: 1.8171 - accuracy: 0.3918 - val_loss: 1.2679 - val_accuracy: 0.7945\n",
            "Epoch 20/1000\n",
            "126/128 [============================>.] - ETA: 0s - loss: 1.7895 - accuracy: 0.4003\n",
            "Epoch 20: saving model to model/keypoint_classifier\\keypoint_classifier.hdf5\n",
            "128/128 [==============================] - 1s 4ms/step - loss: 1.7887 - accuracy: 0.4004 - val_loss: 1.2150 - val_accuracy: 0.7790\n",
            "Epoch 21/1000\n",
            "116/128 [==========================>...] - ETA: 0s - loss: 1.7734 - accuracy: 0.4096\n",
            "Epoch 21: saving model to model/keypoint_classifier\\keypoint_classifier.hdf5\n",
            "128/128 [==============================] - 0s 4ms/step - loss: 1.7696 - accuracy: 0.4102 - val_loss: 1.2289 - val_accuracy: 0.7868\n",
            "Epoch 22/1000\n",
            "128/128 [==============================] - ETA: 0s - loss: 1.7615 - accuracy: 0.4081\n",
            "Epoch 22: saving model to model/keypoint_classifier\\keypoint_classifier.hdf5\n",
            "128/128 [==============================] - 1s 4ms/step - loss: 1.7615 - accuracy: 0.4081 - val_loss: 1.2094 - val_accuracy: 0.7870\n",
            "Epoch 23/1000\n",
            "128/128 [==============================] - ETA: 0s - loss: 1.7432 - accuracy: 0.4135\n",
            "Epoch 23: saving model to model/keypoint_classifier\\keypoint_classifier.hdf5\n",
            "128/128 [==============================] - 1s 4ms/step - loss: 1.7432 - accuracy: 0.4135 - val_loss: 1.1941 - val_accuracy: 0.7868\n",
            "Epoch 24/1000\n",
            "115/128 [=========================>....] - ETA: 0s - loss: 1.7458 - accuracy: 0.4096\n",
            "Epoch 24: saving model to model/keypoint_classifier\\keypoint_classifier.hdf5\n",
            "128/128 [==============================] - 1s 4ms/step - loss: 1.7464 - accuracy: 0.4097 - val_loss: 1.1849 - val_accuracy: 0.7842\n",
            "Epoch 25/1000\n",
            "117/128 [==========================>...] - ETA: 0s - loss: 1.7212 - accuracy: 0.4196\n",
            "Epoch 25: saving model to model/keypoint_classifier\\keypoint_classifier.hdf5\n",
            "128/128 [==============================] - 1s 4ms/step - loss: 1.7287 - accuracy: 0.4172 - val_loss: 1.1638 - val_accuracy: 0.7873\n",
            "Epoch 26/1000\n",
            "119/128 [==========================>...] - ETA: 0s - loss: 1.7223 - accuracy: 0.4210\n",
            "Epoch 26: saving model to model/keypoint_classifier\\keypoint_classifier.hdf5\n",
            "128/128 [==============================] - 0s 4ms/step - loss: 1.7227 - accuracy: 0.4216 - val_loss: 1.1710 - val_accuracy: 0.7781\n",
            "Epoch 27/1000\n",
            "121/128 [===========================>..] - ETA: 0s - loss: 1.6938 - accuracy: 0.4292\n",
            "Epoch 27: saving model to model/keypoint_classifier\\keypoint_classifier.hdf5\n",
            "128/128 [==============================] - 0s 4ms/step - loss: 1.6927 - accuracy: 0.4302 - val_loss: 1.1325 - val_accuracy: 0.8019\n",
            "Epoch 28/1000\n",
            "115/128 [=========================>....] - ETA: 0s - loss: 1.7016 - accuracy: 0.4234\n",
            "Epoch 28: saving model to model/keypoint_classifier\\keypoint_classifier.hdf5\n",
            "128/128 [==============================] - 1s 4ms/step - loss: 1.6994 - accuracy: 0.4235 - val_loss: 1.1548 - val_accuracy: 0.8000\n",
            "Epoch 29/1000\n",
            "118/128 [==========================>...] - ETA: 0s - loss: 1.6611 - accuracy: 0.4378\n",
            "Epoch 29: saving model to model/keypoint_classifier\\keypoint_classifier.hdf5\n",
            "128/128 [==============================] - 0s 4ms/step - loss: 1.6592 - accuracy: 0.4383 - val_loss: 1.1233 - val_accuracy: 0.8315\n",
            "Epoch 30/1000\n",
            "126/128 [============================>.] - ETA: 0s - loss: 1.6528 - accuracy: 0.4400\n",
            "Epoch 30: saving model to model/keypoint_classifier\\keypoint_classifier.hdf5\n",
            "128/128 [==============================] - 0s 4ms/step - loss: 1.6519 - accuracy: 0.4402 - val_loss: 1.1184 - val_accuracy: 0.8129\n",
            "Epoch 31/1000\n",
            "127/128 [============================>.] - ETA: 0s - loss: 1.6490 - accuracy: 0.4414\n",
            "Epoch 31: saving model to model/keypoint_classifier\\keypoint_classifier.hdf5\n",
            "128/128 [==============================] - 0s 4ms/step - loss: 1.6496 - accuracy: 0.4413 - val_loss: 1.1107 - val_accuracy: 0.7763\n",
            "Epoch 32/1000\n",
            "126/128 [============================>.] - ETA: 0s - loss: 1.6377 - accuracy: 0.4482\n",
            "Epoch 32: saving model to model/keypoint_classifier\\keypoint_classifier.hdf5\n",
            "128/128 [==============================] - 0s 4ms/step - loss: 1.6373 - accuracy: 0.4480 - val_loss: 1.0864 - val_accuracy: 0.7800\n",
            "Epoch 33/1000\n",
            "125/128 [============================>.] - ETA: 0s - loss: 1.6290 - accuracy: 0.4516\n",
            "Epoch 33: saving model to model/keypoint_classifier\\keypoint_classifier.hdf5\n",
            "128/128 [==============================] - 0s 4ms/step - loss: 1.6294 - accuracy: 0.4513 - val_loss: 1.0598 - val_accuracy: 0.8184\n",
            "Epoch 34/1000\n",
            "113/128 [=========================>....] - ETA: 0s - loss: 1.6154 - accuracy: 0.4601\n",
            "Epoch 34: saving model to model/keypoint_classifier\\keypoint_classifier.hdf5\n",
            "128/128 [==============================] - 1s 4ms/step - loss: 1.6182 - accuracy: 0.4590 - val_loss: 1.0844 - val_accuracy: 0.8183\n",
            "Epoch 35/1000\n",
            "122/128 [===========================>..] - ETA: 0s - loss: 1.6128 - accuracy: 0.4588\n",
            "Epoch 35: saving model to model/keypoint_classifier\\keypoint_classifier.hdf5\n",
            "128/128 [==============================] - 0s 4ms/step - loss: 1.6125 - accuracy: 0.4586 - val_loss: 1.0548 - val_accuracy: 0.8286\n",
            "Epoch 36/1000\n",
            "117/128 [==========================>...] - ETA: 0s - loss: 1.5868 - accuracy: 0.4731\n",
            "Epoch 36: saving model to model/keypoint_classifier\\keypoint_classifier.hdf5\n",
            "128/128 [==============================] - 0s 4ms/step - loss: 1.5832 - accuracy: 0.4724 - val_loss: 1.0451 - val_accuracy: 0.8472\n",
            "Epoch 37/1000\n",
            "123/128 [===========================>..] - ETA: 0s - loss: 1.5766 - accuracy: 0.4690\n",
            "Epoch 37: saving model to model/keypoint_classifier\\keypoint_classifier.hdf5\n",
            "128/128 [==============================] - 0s 4ms/step - loss: 1.5757 - accuracy: 0.4708 - val_loss: 1.0607 - val_accuracy: 0.8405\n",
            "Epoch 38/1000\n",
            "120/128 [===========================>..] - ETA: 0s - loss: 1.5592 - accuracy: 0.4824\n",
            "Epoch 38: saving model to model/keypoint_classifier\\keypoint_classifier.hdf5\n",
            "128/128 [==============================] - 0s 4ms/step - loss: 1.5605 - accuracy: 0.4820 - val_loss: 1.0283 - val_accuracy: 0.8133\n",
            "Epoch 39/1000\n",
            "115/128 [=========================>....] - ETA: 0s - loss: 1.5472 - accuracy: 0.4785\n",
            "Epoch 39: saving model to model/keypoint_classifier\\keypoint_classifier.hdf5\n",
            "128/128 [==============================] - 0s 4ms/step - loss: 1.5556 - accuracy: 0.4778 - val_loss: 1.0201 - val_accuracy: 0.8376\n",
            "Epoch 40/1000\n",
            "125/128 [============================>.] - ETA: 0s - loss: 1.5488 - accuracy: 0.4877\n",
            "Epoch 40: saving model to model/keypoint_classifier\\keypoint_classifier.hdf5\n",
            "128/128 [==============================] - 0s 4ms/step - loss: 1.5489 - accuracy: 0.4874 - val_loss: 1.0419 - val_accuracy: 0.8243\n",
            "Epoch 41/1000\n",
            "121/128 [===========================>..] - ETA: 0s - loss: 1.5441 - accuracy: 0.4811\n",
            "Epoch 41: saving model to model/keypoint_classifier\\keypoint_classifier.hdf5\n",
            "128/128 [==============================] - 0s 4ms/step - loss: 1.5419 - accuracy: 0.4813 - val_loss: 1.0009 - val_accuracy: 0.8208\n",
            "Epoch 42/1000\n",
            "115/128 [=========================>....] - ETA: 0s - loss: 1.5165 - accuracy: 0.4964\n",
            "Epoch 42: saving model to model/keypoint_classifier\\keypoint_classifier.hdf5\n",
            "128/128 [==============================] - 0s 4ms/step - loss: 1.5152 - accuracy: 0.4959 - val_loss: 1.0239 - val_accuracy: 0.8151\n",
            "Epoch 43/1000\n",
            "123/128 [===========================>..] - ETA: 0s - loss: 1.5284 - accuracy: 0.4873\n",
            "Epoch 43: saving model to model/keypoint_classifier\\keypoint_classifier.hdf5\n",
            "128/128 [==============================] - 0s 4ms/step - loss: 1.5309 - accuracy: 0.4875 - val_loss: 1.0160 - val_accuracy: 0.8094\n",
            "Epoch 44/1000\n",
            "119/128 [==========================>...] - ETA: 0s - loss: 1.4995 - accuracy: 0.5032\n",
            "Epoch 44: saving model to model/keypoint_classifier\\keypoint_classifier.hdf5\n",
            "128/128 [==============================] - 0s 4ms/step - loss: 1.5004 - accuracy: 0.5023 - val_loss: 1.0067 - val_accuracy: 0.8085\n",
            "Epoch 45/1000\n",
            "126/128 [============================>.] - ETA: 0s - loss: 1.5080 - accuracy: 0.4984\n",
            "Epoch 45: saving model to model/keypoint_classifier\\keypoint_classifier.hdf5\n",
            "128/128 [==============================] - 1s 4ms/step - loss: 1.5093 - accuracy: 0.4985 - val_loss: 0.9886 - val_accuracy: 0.8148\n",
            "Epoch 46/1000\n",
            "113/128 [=========================>....] - ETA: 0s - loss: 1.5060 - accuracy: 0.4981\n",
            "Epoch 46: saving model to model/keypoint_classifier\\keypoint_classifier.hdf5\n",
            "128/128 [==============================] - 1s 4ms/step - loss: 1.5027 - accuracy: 0.4986 - val_loss: 0.9990 - val_accuracy: 0.8264\n",
            "Epoch 47/1000\n",
            "110/128 [========================>.....] - ETA: 0s - loss: 1.4938 - accuracy: 0.5065\n",
            "Epoch 47: saving model to model/keypoint_classifier\\keypoint_classifier.hdf5\n",
            "128/128 [==============================] - 0s 4ms/step - loss: 1.4919 - accuracy: 0.5059 - val_loss: 0.9835 - val_accuracy: 0.8205\n",
            "Epoch 48/1000\n",
            "122/128 [===========================>..] - ETA: 0s - loss: 1.5062 - accuracy: 0.5029\n",
            "Epoch 48: saving model to model/keypoint_classifier\\keypoint_classifier.hdf5\n",
            "128/128 [==============================] - 0s 4ms/step - loss: 1.5026 - accuracy: 0.5044 - val_loss: 1.0091 - val_accuracy: 0.8032\n",
            "Epoch 49/1000\n",
            "120/128 [===========================>..] - ETA: 0s - loss: 1.4902 - accuracy: 0.5064\n",
            "Epoch 49: saving model to model/keypoint_classifier\\keypoint_classifier.hdf5\n",
            "128/128 [==============================] - 1s 4ms/step - loss: 1.4949 - accuracy: 0.5086 - val_loss: 0.9991 - val_accuracy: 0.8118\n",
            "Epoch 50/1000\n",
            "112/128 [=========================>....] - ETA: 0s - loss: 1.4841 - accuracy: 0.5061\n",
            "Epoch 50: saving model to model/keypoint_classifier\\keypoint_classifier.hdf5\n",
            "128/128 [==============================] - 1s 4ms/step - loss: 1.4839 - accuracy: 0.5075 - val_loss: 0.9983 - val_accuracy: 0.7995\n",
            "Epoch 51/1000\n",
            "126/128 [============================>.] - ETA: 0s - loss: 1.4873 - accuracy: 0.5099\n",
            "Epoch 51: saving model to model/keypoint_classifier\\keypoint_classifier.hdf5\n",
            "128/128 [==============================] - 0s 4ms/step - loss: 1.4855 - accuracy: 0.5107 - val_loss: 0.9513 - val_accuracy: 0.8499\n",
            "Epoch 52/1000\n",
            "121/128 [===========================>..] - ETA: 0s - loss: 1.4617 - accuracy: 0.5156\n",
            "Epoch 52: saving model to model/keypoint_classifier\\keypoint_classifier.hdf5\n",
            "128/128 [==============================] - 0s 4ms/step - loss: 1.4597 - accuracy: 0.5160 - val_loss: 0.9856 - val_accuracy: 0.8221\n",
            "Epoch 53/1000\n",
            "116/128 [==========================>...] - ETA: 0s - loss: 1.4563 - accuracy: 0.5183\n",
            "Epoch 53: saving model to model/keypoint_classifier\\keypoint_classifier.hdf5\n",
            "128/128 [==============================] - 0s 4ms/step - loss: 1.4596 - accuracy: 0.5162 - val_loss: 0.9937 - val_accuracy: 0.8251\n",
            "Epoch 54/1000\n",
            "128/128 [==============================] - ETA: 0s - loss: 1.4540 - accuracy: 0.5177\n",
            "Epoch 54: saving model to model/keypoint_classifier\\keypoint_classifier.hdf5\n",
            "128/128 [==============================] - 0s 4ms/step - loss: 1.4540 - accuracy: 0.5177 - val_loss: 0.9823 - val_accuracy: 0.8199\n",
            "Epoch 55/1000\n",
            "120/128 [===========================>..] - ETA: 0s - loss: 1.4597 - accuracy: 0.5208\n",
            "Epoch 55: saving model to model/keypoint_classifier\\keypoint_classifier.hdf5\n",
            "128/128 [==============================] - 0s 4ms/step - loss: 1.4592 - accuracy: 0.5214 - val_loss: 0.9898 - val_accuracy: 0.8100\n",
            "Epoch 56/1000\n",
            "120/128 [===========================>..] - ETA: 0s - loss: 1.4436 - accuracy: 0.5251\n",
            "Epoch 56: saving model to model/keypoint_classifier\\keypoint_classifier.hdf5\n",
            "128/128 [==============================] - 0s 4ms/step - loss: 1.4491 - accuracy: 0.5244 - val_loss: 0.9867 - val_accuracy: 0.8238\n",
            "Epoch 57/1000\n",
            "124/128 [============================>.] - ETA: 0s - loss: 1.4355 - accuracy: 0.5231\n",
            "Epoch 57: saving model to model/keypoint_classifier\\keypoint_classifier.hdf5\n",
            "128/128 [==============================] - 0s 4ms/step - loss: 1.4363 - accuracy: 0.5222 - val_loss: 0.9958 - val_accuracy: 0.8129\n",
            "Epoch 58/1000\n",
            "124/128 [============================>.] - ETA: 0s - loss: 1.4308 - accuracy: 0.5297\n",
            "Epoch 58: saving model to model/keypoint_classifier\\keypoint_classifier.hdf5\n",
            "128/128 [==============================] - 0s 4ms/step - loss: 1.4310 - accuracy: 0.5295 - val_loss: 0.9904 - val_accuracy: 0.7940\n",
            "Epoch 59/1000\n",
            "127/128 [============================>.] - ETA: 0s - loss: 1.4258 - accuracy: 0.5260\n",
            "Epoch 59: saving model to model/keypoint_classifier\\keypoint_classifier.hdf5\n",
            "128/128 [==============================] - 0s 4ms/step - loss: 1.4260 - accuracy: 0.5259 - val_loss: 0.9567 - val_accuracy: 0.8116\n",
            "Epoch 60/1000\n",
            "111/128 [=========================>....] - ETA: 0s - loss: 1.4166 - accuracy: 0.5301\n",
            "Epoch 60: saving model to model/keypoint_classifier\\keypoint_classifier.hdf5\n",
            "128/128 [==============================] - 0s 4ms/step - loss: 1.4174 - accuracy: 0.5300 - val_loss: 0.9756 - val_accuracy: 0.7693\n",
            "Epoch 61/1000\n",
            "126/128 [============================>.] - ETA: 0s - loss: 1.4111 - accuracy: 0.5361\n",
            "Epoch 61: saving model to model/keypoint_classifier\\keypoint_classifier.hdf5\n",
            "128/128 [==============================] - 0s 4ms/step - loss: 1.4123 - accuracy: 0.5351 - val_loss: 0.9700 - val_accuracy: 0.8096\n",
            "Epoch 62/1000\n",
            "126/128 [============================>.] - ETA: 0s - loss: 1.3816 - accuracy: 0.5469\n",
            "Epoch 62: saving model to model/keypoint_classifier\\keypoint_classifier.hdf5\n",
            "128/128 [==============================] - 0s 4ms/step - loss: 1.3824 - accuracy: 0.5473 - val_loss: 0.9457 - val_accuracy: 0.7991\n",
            "Epoch 63/1000\n",
            "127/128 [============================>.] - ETA: 0s - loss: 1.3967 - accuracy: 0.5371\n",
            "Epoch 63: saving model to model/keypoint_classifier\\keypoint_classifier.hdf5\n",
            "128/128 [==============================] - 0s 4ms/step - loss: 1.3966 - accuracy: 0.5372 - val_loss: 0.9611 - val_accuracy: 0.7921\n",
            "Epoch 64/1000\n",
            "125/128 [============================>.] - ETA: 0s - loss: 1.3953 - accuracy: 0.5388\n",
            "Epoch 64: saving model to model/keypoint_classifier\\keypoint_classifier.hdf5\n",
            "128/128 [==============================] - 0s 4ms/step - loss: 1.3971 - accuracy: 0.5385 - val_loss: 0.9734 - val_accuracy: 0.7757\n",
            "Epoch 65/1000\n",
            "112/128 [=========================>....] - ETA: 0s - loss: 1.3841 - accuracy: 0.5373\n",
            "Epoch 65: saving model to model/keypoint_classifier\\keypoint_classifier.hdf5\n",
            "128/128 [==============================] - 0s 4ms/step - loss: 1.3870 - accuracy: 0.5386 - val_loss: 0.9715 - val_accuracy: 0.7987\n",
            "Epoch 66/1000\n",
            "114/128 [=========================>....] - ETA: 0s - loss: 1.3773 - accuracy: 0.5445\n",
            "Epoch 66: saving model to model/keypoint_classifier\\keypoint_classifier.hdf5\n",
            "128/128 [==============================] - 0s 3ms/step - loss: 1.3792 - accuracy: 0.5438 - val_loss: 0.9654 - val_accuracy: 0.8000\n",
            "Epoch 67/1000\n",
            "114/128 [=========================>....] - ETA: 0s - loss: 1.3693 - accuracy: 0.5474\n",
            "Epoch 67: saving model to model/keypoint_classifier\\keypoint_classifier.hdf5\n",
            "128/128 [==============================] - 0s 3ms/step - loss: 1.3688 - accuracy: 0.5478 - val_loss: 0.9847 - val_accuracy: 0.7507\n",
            "Epoch 68/1000\n",
            "114/128 [=========================>....] - ETA: 0s - loss: 1.3716 - accuracy: 0.5520\n",
            "Epoch 68: saving model to model/keypoint_classifier\\keypoint_classifier.hdf5\n",
            "128/128 [==============================] - 0s 3ms/step - loss: 1.3692 - accuracy: 0.5517 - val_loss: 0.9466 - val_accuracy: 0.8063\n",
            "Epoch 69/1000\n",
            "113/128 [=========================>....] - ETA: 0s - loss: 1.3827 - accuracy: 0.5474\n",
            "Epoch 69: saving model to model/keypoint_classifier\\keypoint_classifier.hdf5\n",
            "128/128 [==============================] - 0s 4ms/step - loss: 1.3766 - accuracy: 0.5474 - val_loss: 0.9641 - val_accuracy: 0.7842\n",
            "Epoch 70/1000\n",
            "114/128 [=========================>....] - ETA: 0s - loss: 1.3499 - accuracy: 0.5547\n",
            "Epoch 70: saving model to model/keypoint_classifier\\keypoint_classifier.hdf5\n",
            "128/128 [==============================] - 0s 3ms/step - loss: 1.3530 - accuracy: 0.5548 - val_loss: 0.9310 - val_accuracy: 0.8083\n",
            "Epoch 71/1000\n",
            "112/128 [=========================>....] - ETA: 0s - loss: 1.3485 - accuracy: 0.5479\n",
            "Epoch 71: saving model to model/keypoint_classifier\\keypoint_classifier.hdf5\n",
            "128/128 [==============================] - 0s 4ms/step - loss: 1.3470 - accuracy: 0.5485 - val_loss: 0.9515 - val_accuracy: 0.7741\n",
            "Epoch 72/1000\n",
            "115/128 [=========================>....] - ETA: 0s - loss: 1.3600 - accuracy: 0.5548\n",
            "Epoch 72: saving model to model/keypoint_classifier\\keypoint_classifier.hdf5\n",
            "128/128 [==============================] - 0s 3ms/step - loss: 1.3564 - accuracy: 0.5546 - val_loss: 0.9465 - val_accuracy: 0.7833\n",
            "Epoch 73/1000\n",
            "116/128 [==========================>...] - ETA: 0s - loss: 1.3355 - accuracy: 0.5597\n",
            "Epoch 73: saving model to model/keypoint_classifier\\keypoint_classifier.hdf5\n",
            "128/128 [==============================] - 0s 3ms/step - loss: 1.3417 - accuracy: 0.5575 - val_loss: 0.9536 - val_accuracy: 0.7363\n",
            "Epoch 74/1000\n",
            "114/128 [=========================>....] - ETA: 0s - loss: 1.3566 - accuracy: 0.5612\n",
            "Epoch 74: saving model to model/keypoint_classifier\\keypoint_classifier.hdf5\n",
            "128/128 [==============================] - 0s 3ms/step - loss: 1.3538 - accuracy: 0.5608 - val_loss: 0.9495 - val_accuracy: 0.7860\n",
            "Epoch 75/1000\n",
            "115/128 [=========================>....] - ETA: 0s - loss: 1.3583 - accuracy: 0.5581\n",
            "Epoch 75: saving model to model/keypoint_classifier\\keypoint_classifier.hdf5\n",
            "128/128 [==============================] - 0s 3ms/step - loss: 1.3543 - accuracy: 0.5602 - val_loss: 0.9483 - val_accuracy: 0.7663\n",
            "Epoch 76/1000\n",
            "114/128 [=========================>....] - ETA: 0s - loss: 1.3359 - accuracy: 0.5641\n",
            "Epoch 76: saving model to model/keypoint_classifier\\keypoint_classifier.hdf5\n",
            "128/128 [==============================] - 0s 3ms/step - loss: 1.3409 - accuracy: 0.5616 - val_loss: 0.9469 - val_accuracy: 0.7908\n",
            "Epoch 77/1000\n",
            "114/128 [=========================>....] - ETA: 0s - loss: 1.3238 - accuracy: 0.5649\n",
            "Epoch 77: saving model to model/keypoint_classifier\\keypoint_classifier.hdf5\n",
            "128/128 [==============================] - 0s 3ms/step - loss: 1.3268 - accuracy: 0.5636 - val_loss: 0.9333 - val_accuracy: 0.7774\n",
            "Epoch 78/1000\n",
            "116/128 [==========================>...] - ETA: 0s - loss: 1.3238 - accuracy: 0.5630\n",
            "Epoch 78: saving model to model/keypoint_classifier\\keypoint_classifier.hdf5\n",
            "128/128 [==============================] - 0s 3ms/step - loss: 1.3300 - accuracy: 0.5624 - val_loss: 0.9575 - val_accuracy: 0.7641\n",
            "Epoch 79/1000\n",
            "116/128 [==========================>...] - ETA: 0s - loss: 1.3290 - accuracy: 0.5636\n",
            "Epoch 79: saving model to model/keypoint_classifier\\keypoint_classifier.hdf5\n",
            "128/128 [==============================] - 0s 3ms/step - loss: 1.3273 - accuracy: 0.5659 - val_loss: 0.9387 - val_accuracy: 0.7619\n",
            "Epoch 80/1000\n",
            "114/128 [=========================>....] - ETA: 0s - loss: 1.3167 - accuracy: 0.5678\n",
            "Epoch 80: saving model to model/keypoint_classifier\\keypoint_classifier.hdf5\n",
            "128/128 [==============================] - 0s 3ms/step - loss: 1.3151 - accuracy: 0.5675 - val_loss: 0.9413 - val_accuracy: 0.7500\n",
            "Epoch 81/1000\n",
            "116/128 [==========================>...] - ETA: 0s - loss: 1.3354 - accuracy: 0.5624\n",
            "Epoch 81: saving model to model/keypoint_classifier\\keypoint_classifier.hdf5\n",
            "128/128 [==============================] - 0s 3ms/step - loss: 1.3338 - accuracy: 0.5640 - val_loss: 0.9889 - val_accuracy: 0.7120\n",
            "Epoch 82/1000\n",
            "113/128 [=========================>....] - ETA: 0s - loss: 1.3058 - accuracy: 0.5670\n",
            "Epoch 82: saving model to model/keypoint_classifier\\keypoint_classifier.hdf5\n",
            "128/128 [==============================] - 0s 3ms/step - loss: 1.2990 - accuracy: 0.5686 - val_loss: 0.9326 - val_accuracy: 0.7547\n",
            "Epoch 83/1000\n",
            "113/128 [=========================>....] - ETA: 0s - loss: 1.3124 - accuracy: 0.5685\n",
            "Epoch 83: saving model to model/keypoint_classifier\\keypoint_classifier.hdf5\n",
            "128/128 [==============================] - 0s 3ms/step - loss: 1.3154 - accuracy: 0.5690 - val_loss: 0.9443 - val_accuracy: 0.7616\n",
            "Epoch 84/1000\n",
            "113/128 [=========================>....] - ETA: 0s - loss: 1.2895 - accuracy: 0.5702\n",
            "Epoch 84: saving model to model/keypoint_classifier\\keypoint_classifier.hdf5\n",
            "128/128 [==============================] - 0s 3ms/step - loss: 1.2951 - accuracy: 0.5710 - val_loss: 0.9626 - val_accuracy: 0.7288\n",
            "Epoch 85/1000\n",
            "117/128 [==========================>...] - ETA: 0s - loss: 1.2906 - accuracy: 0.5740\n",
            "Epoch 85: saving model to model/keypoint_classifier\\keypoint_classifier.hdf5\n",
            "128/128 [==============================] - 0s 3ms/step - loss: 1.2878 - accuracy: 0.5744 - val_loss: 0.9608 - val_accuracy: 0.7477\n",
            "Epoch 86/1000\n",
            "113/128 [=========================>....] - ETA: 0s - loss: 1.3102 - accuracy: 0.5718\n",
            "Epoch 86: saving model to model/keypoint_classifier\\keypoint_classifier.hdf5\n",
            "128/128 [==============================] - 0s 3ms/step - loss: 1.3116 - accuracy: 0.5717 - val_loss: 0.9490 - val_accuracy: 0.7314\n",
            "Epoch 87/1000\n",
            "115/128 [=========================>....] - ETA: 0s - loss: 1.2923 - accuracy: 0.5728\n",
            "Epoch 87: saving model to model/keypoint_classifier\\keypoint_classifier.hdf5\n",
            "128/128 [==============================] - 0s 3ms/step - loss: 1.2898 - accuracy: 0.5746 - val_loss: 0.9363 - val_accuracy: 0.7564\n",
            "Epoch 88/1000\n",
            "111/128 [=========================>....] - ETA: 0s - loss: 1.2845 - accuracy: 0.5859\n",
            "Epoch 88: saving model to model/keypoint_classifier\\keypoint_classifier.hdf5\n",
            "128/128 [==============================] - 0s 4ms/step - loss: 1.2836 - accuracy: 0.5862 - val_loss: 0.9302 - val_accuracy: 0.7577\n",
            "Epoch 89/1000\n",
            "115/128 [=========================>....] - ETA: 0s - loss: 1.2875 - accuracy: 0.5768\n",
            "Epoch 89: saving model to model/keypoint_classifier\\keypoint_classifier.hdf5\n",
            "128/128 [==============================] - 0s 3ms/step - loss: 1.2825 - accuracy: 0.5797 - val_loss: 0.9283 - val_accuracy: 0.7592\n",
            "Epoch 90/1000\n",
            "114/128 [=========================>....] - ETA: 0s - loss: 1.2906 - accuracy: 0.5816\n",
            "Epoch 90: saving model to model/keypoint_classifier\\keypoint_classifier.hdf5\n",
            "128/128 [==============================] - 0s 3ms/step - loss: 1.2886 - accuracy: 0.5823 - val_loss: 0.9639 - val_accuracy: 0.7148\n",
            "Epoch 91/1000\n",
            "116/128 [==========================>...] - ETA: 0s - loss: 1.2788 - accuracy: 0.5884\n",
            "Epoch 91: saving model to model/keypoint_classifier\\keypoint_classifier.hdf5\n",
            "128/128 [==============================] - 0s 3ms/step - loss: 1.2777 - accuracy: 0.5883 - val_loss: 0.9615 - val_accuracy: 0.7245\n",
            "Epoch 92/1000\n",
            "116/128 [==========================>...] - ETA: 0s - loss: 1.2725 - accuracy: 0.5890\n",
            "Epoch 92: saving model to model/keypoint_classifier\\keypoint_classifier.hdf5\n",
            "128/128 [==============================] - 0s 3ms/step - loss: 1.2759 - accuracy: 0.5878 - val_loss: 0.9638 - val_accuracy: 0.7315\n",
            "Epoch 93/1000\n",
            "115/128 [=========================>....] - ETA: 0s - loss: 1.2553 - accuracy: 0.5920\n",
            "Epoch 93: saving model to model/keypoint_classifier\\keypoint_classifier.hdf5\n",
            "128/128 [==============================] - 0s 3ms/step - loss: 1.2567 - accuracy: 0.5916 - val_loss: 0.9577 - val_accuracy: 0.7166\n",
            "Epoch 94/1000\n",
            "116/128 [==========================>...] - ETA: 0s - loss: 1.2683 - accuracy: 0.5847\n",
            "Epoch 94: saving model to model/keypoint_classifier\\keypoint_classifier.hdf5\n",
            "128/128 [==============================] - 0s 3ms/step - loss: 1.2674 - accuracy: 0.5864 - val_loss: 0.9827 - val_accuracy: 0.7104\n",
            "Epoch 95/1000\n",
            "116/128 [==========================>...] - ETA: 0s - loss: 1.2514 - accuracy: 0.6012\n",
            "Epoch 95: saving model to model/keypoint_classifier\\keypoint_classifier.hdf5\n",
            "128/128 [==============================] - 0s 3ms/step - loss: 1.2502 - accuracy: 0.6005 - val_loss: 0.9650 - val_accuracy: 0.7220\n",
            "Epoch 96/1000\n",
            "115/128 [=========================>....] - ETA: 0s - loss: 1.2600 - accuracy: 0.5912\n",
            "Epoch 96: saving model to model/keypoint_classifier\\keypoint_classifier.hdf5\n",
            "128/128 [==============================] - 0s 3ms/step - loss: 1.2580 - accuracy: 0.5907 - val_loss: 0.9570 - val_accuracy: 0.7360\n",
            "Epoch 97/1000\n",
            "115/128 [=========================>....] - ETA: 0s - loss: 1.2716 - accuracy: 0.5907\n",
            "Epoch 97: saving model to model/keypoint_classifier\\keypoint_classifier.hdf5\n",
            "128/128 [==============================] - 0s 3ms/step - loss: 1.2669 - accuracy: 0.5918 - val_loss: 0.9521 - val_accuracy: 0.7459\n",
            "Epoch 98/1000\n",
            "116/128 [==========================>...] - ETA: 0s - loss: 1.2479 - accuracy: 0.5962\n",
            "Epoch 98: saving model to model/keypoint_classifier\\keypoint_classifier.hdf5\n",
            "128/128 [==============================] - 0s 3ms/step - loss: 1.2459 - accuracy: 0.5964 - val_loss: 0.9556 - val_accuracy: 0.7334\n",
            "Epoch 99/1000\n",
            "114/128 [=========================>....] - ETA: 0s - loss: 1.2261 - accuracy: 0.6043\n",
            "Epoch 99: saving model to model/keypoint_classifier\\keypoint_classifier.hdf5\n",
            "128/128 [==============================] - 0s 3ms/step - loss: 1.2341 - accuracy: 0.6025 - val_loss: 0.9886 - val_accuracy: 0.6901\n",
            "Epoch 100/1000\n",
            "115/128 [=========================>....] - ETA: 0s - loss: 1.2275 - accuracy: 0.6022\n",
            "Epoch 100: saving model to model/keypoint_classifier\\keypoint_classifier.hdf5\n",
            "128/128 [==============================] - 0s 3ms/step - loss: 1.2298 - accuracy: 0.6016 - val_loss: 0.9882 - val_accuracy: 0.7109\n",
            "Epoch 101/1000\n",
            "114/128 [=========================>....] - ETA: 0s - loss: 1.2348 - accuracy: 0.6014\n",
            "Epoch 101: saving model to model/keypoint_classifier\\keypoint_classifier.hdf5\n",
            "128/128 [==============================] - 0s 3ms/step - loss: 1.2334 - accuracy: 0.6021 - val_loss: 0.9839 - val_accuracy: 0.7229\n",
            "Epoch 102/1000\n",
            "111/128 [=========================>....] - ETA: 0s - loss: 1.2291 - accuracy: 0.6077\n",
            "Epoch 102: saving model to model/keypoint_classifier\\keypoint_classifier.hdf5\n",
            "128/128 [==============================] - 0s 3ms/step - loss: 1.2204 - accuracy: 0.6077 - val_loss: 0.9913 - val_accuracy: 0.7198\n",
            "Epoch 103/1000\n",
            "111/128 [=========================>....] - ETA: 0s - loss: 1.2315 - accuracy: 0.5998\n",
            "Epoch 103: saving model to model/keypoint_classifier\\keypoint_classifier.hdf5\n",
            "128/128 [==============================] - 0s 4ms/step - loss: 1.2294 - accuracy: 0.6031 - val_loss: 0.9624 - val_accuracy: 0.7308\n",
            "Epoch 104/1000\n",
            "111/128 [=========================>....] - ETA: 0s - loss: 1.2066 - accuracy: 0.6113\n",
            "Epoch 104: saving model to model/keypoint_classifier\\keypoint_classifier.hdf5\n",
            "128/128 [==============================] - 0s 4ms/step - loss: 1.2121 - accuracy: 0.6099 - val_loss: 0.9800 - val_accuracy: 0.7065\n",
            "Epoch 105/1000\n",
            "113/128 [=========================>....] - ETA: 0s - loss: 1.2112 - accuracy: 0.6143\n",
            "Epoch 105: saving model to model/keypoint_classifier\\keypoint_classifier.hdf5\n",
            "128/128 [==============================] - 0s 4ms/step - loss: 1.2077 - accuracy: 0.6131 - val_loss: 0.9733 - val_accuracy: 0.7238\n",
            "Epoch 106/1000\n",
            "127/128 [============================>.] - ETA: 0s - loss: 1.2073 - accuracy: 0.6145\n",
            "Epoch 106: saving model to model/keypoint_classifier\\keypoint_classifier.hdf5\n",
            "128/128 [==============================] - 0s 4ms/step - loss: 1.2070 - accuracy: 0.6146 - val_loss: 0.9697 - val_accuracy: 0.7198\n",
            "Epoch 107/1000\n",
            "115/128 [=========================>....] - ETA: 0s - loss: 1.2015 - accuracy: 0.6128\n",
            "Epoch 107: saving model to model/keypoint_classifier\\keypoint_classifier.hdf5\n",
            "128/128 [==============================] - 0s 3ms/step - loss: 1.2036 - accuracy: 0.6128 - val_loss: 0.9744 - val_accuracy: 0.7253\n",
            "Epoch 108/1000\n",
            "115/128 [=========================>....] - ETA: 0s - loss: 1.2093 - accuracy: 0.6168\n",
            "Epoch 108: saving model to model/keypoint_classifier\\keypoint_classifier.hdf5\n",
            "128/128 [==============================] - 0s 3ms/step - loss: 1.2111 - accuracy: 0.6167 - val_loss: 0.9875 - val_accuracy: 0.7065\n",
            "Epoch 109/1000\n",
            "115/128 [=========================>....] - ETA: 0s - loss: 1.1995 - accuracy: 0.6178\n",
            "Epoch 109: saving model to model/keypoint_classifier\\keypoint_classifier.hdf5\n",
            "128/128 [==============================] - 0s 3ms/step - loss: 1.1973 - accuracy: 0.6181 - val_loss: 0.9577 - val_accuracy: 0.7155\n",
            "Epoch 109: early stopping\n"
          ]
        },
        {
          "data": {
            "text/plain": [
              "<keras.callbacks.History at 0x20c99aa11e0>"
            ]
          },
          "execution_count": 159,
          "metadata": {},
          "output_type": "execute_result"
        }
      ],
      "source": [
        "model.fit(\n",
        "    X_train,\n",
        "    y_train,\n",
        "    epochs=1000,\n",
        "    batch_size=128,\n",
        "    validation_data=(X_test, y_test),\n",
        "    callbacks=[cp_callback, es_callback,tensorboard_callback]\n",
        ")"
      ]
    },
    {
      "cell_type": "code",
      "execution_count": 160,
      "metadata": {},
      "outputs": [
        {
          "data": {
            "text/plain": [
              "Reusing TensorBoard on port 6006 (pid 15540), started 1 day, 10:29:04 ago. (Use '!kill 15540' to kill it.)"
            ]
          },
          "metadata": {},
          "output_type": "display_data"
        },
        {
          "data": {
            "text/html": [
              "\n",
              "      <iframe id=\"tensorboard-frame-7042654374d584e9\" width=\"100%\" height=\"800\" frameborder=\"0\">\n",
              "      </iframe>\n",
              "      <script>\n",
              "        (function() {\n",
              "          const frame = document.getElementById(\"tensorboard-frame-7042654374d584e9\");\n",
              "          const url = new URL(\"http://localhost\");\n",
              "          const port = 6006;\n",
              "          if (port) {\n",
              "            url.port = port;\n",
              "          }\n",
              "          frame.src = url;\n",
              "        })();\n",
              "      </script>\n",
              "    "
            ],
            "text/plain": [
              "<IPython.core.display.HTML object>"
            ]
          },
          "metadata": {},
          "output_type": "display_data"
        }
      ],
      "source": [
        "%tensorboard --logdir logs\n"
      ]
    },
    {
      "cell_type": "code",
      "execution_count": 161,
      "metadata": {
        "colab": {
          "base_uri": "https://localhost:8080/"
        },
        "id": "pxvb2Y299hE3",
        "outputId": "59eb3185-2e37-4b9e-bc9d-ab1b8ac29b7f"
      },
      "outputs": [
        {
          "name": "stdout",
          "output_type": "stream",
          "text": [
            "43/43 [==============================] - 0s 2ms/step - loss: 0.9577 - accuracy: 0.7155\n"
          ]
        }
      ],
      "source": [
        "# Model evaluation\n",
        "val_loss, val_acc = model.evaluate(X_test, y_test, batch_size=128)"
      ]
    },
    {
      "cell_type": "code",
      "execution_count": 162,
      "metadata": {
        "id": "RBkmDeUW9hE4"
      },
      "outputs": [],
      "source": [
        "# Loading the saved model\n",
        "model = tf.keras.models.load_model(model_save_path)"
      ]
    },
    {
      "cell_type": "code",
      "execution_count": 163,
      "metadata": {
        "colab": {
          "base_uri": "https://localhost:8080/"
        },
        "id": "tFz9Tb0I9hE4",
        "outputId": "1c3b3528-54ae-4ee2-ab04-77429211cbef"
      },
      "outputs": [
        {
          "name": "stdout",
          "output_type": "stream",
          "text": [
            "1/1 [==============================] - 0s 44ms/step\n",
            "[7.8969397e-02 2.4956453e-05 3.5007350e-04 9.8477809e-05 9.6939271e-03\n",
            " 1.0718928e-03 1.6129363e-05 2.2238024e-05 2.1261545e-02 6.7006898e-09\n",
            " 4.4350567e-05 7.3899326e-05 5.9373267e-02 3.9700128e-02 6.9689755e-03\n",
            " 3.1362704e-04 5.4964994e-07 9.5795498e-05 2.9510593e-01 4.6168435e-01\n",
            " 2.8443030e-05 8.1236874e-05 1.8720053e-06 1.8178852e-02 6.8400842e-03\n",
            " 1.7885852e-09]\n",
            "19\n"
          ]
        }
      ],
      "source": [
        "# Inference test\n",
        "predict_result = model.predict(np.array([X_test[0]]))\n",
        "print(np.squeeze(predict_result))\n",
        "print(np.argmax(np.squeeze(predict_result)))"
      ]
    },
    {
      "cell_type": "markdown",
      "metadata": {
        "id": "S3U4yNWx9hE4"
      },
      "source": [
        "# Confusion matrix"
      ]
    },
    {
      "cell_type": "code",
      "execution_count": 164,
      "metadata": {
        "colab": {
          "base_uri": "https://localhost:8080/",
          "height": 582
        },
        "id": "AP1V6SCk9hE5",
        "outputId": "08e41a80-7a4a-4619-8125-ecc371368d19"
      },
      "outputs": [
        {
          "name": "stdout",
          "output_type": "stream",
          "text": [
            "170/170 [==============================] - 0s 769us/step\n"
          ]
        },
        {
          "data": {
            "image/png": "[encoded data removed]",
            "text/plain": [
              "<Figure size 700x600 with 2 Axes>"
            ]
          },
          "metadata": {},
          "output_type": "display_data"
        },
        {
          "name": "stdout",
          "output_type": "stream",
          "text": [
            "Classification Report\n",
            "              precision    recall  f1-score   support\n",
            "\n",
            "           0       0.46      0.98      0.63       188\n",
            "           1       0.98      0.98      0.98       183\n",
            "           2       1.00      1.00      1.00       206\n",
            "           3       0.13      0.12      0.12       208\n",
            "           4       0.65      0.86      0.74       188\n",
            "           5       0.99      0.80      0.88       206\n",
            "           6       0.74      0.97      0.84       210\n",
            "           7       0.97      0.78      0.86       221\n",
            "           8       0.86      0.98      0.92       424\n",
            "           9       0.99      0.99      0.99       223\n",
            "          10       1.00      0.30      0.46       187\n",
            "          11       0.93      0.82      0.87       213\n",
            "          12       0.93      0.83      0.88       187\n",
            "          13       0.78      0.97      0.86       198\n",
            "          14       0.98      0.74      0.85       195\n",
            "          15       0.95      0.87      0.91       208\n",
            "          16       0.98      0.99      0.99       189\n",
            "          17       0.00      0.00      0.00       212\n",
            "          18       0.59      0.12      0.20       193\n",
            "          19       0.10      0.07      0.08       220\n",
            "          20       0.33      1.00      0.49       214\n",
            "          21       0.95      0.49      0.64       195\n",
            "          22       0.97      0.97      0.97       212\n",
            "          23       0.86      0.15      0.26       197\n",
            "          24       1.00      0.53      0.69       156\n",
            "          25       0.47      0.99      0.64       198\n",
            "\n",
            "    accuracy                           0.72      5431\n",
            "   macro avg       0.75      0.70      0.68      5431\n",
            "weighted avg       0.75      0.72      0.69      5431\n",
            "\n"
          ]
        },
        {
          "name": "stderr",
          "output_type": "stream",
          "text": [
            "c:\\Users\\bigdipper\\AppData\\Local\\Programs\\Python\\Python310\\lib\\site-packages\\sklearn\\metrics\\_classification.py:1334: UndefinedMetricWarning: Precision and F-score are ill-defined and being set to 0.0 in labels with no predicted samples. Use `zero_division` parameter to control this behavior.\n",
            "  _warn_prf(average, modifier, msg_start, len(result))\n",
            "c:\\Users\\bigdipper\\AppData\\Local\\Programs\\Python\\Python310\\lib\\site-packages\\sklearn\\metrics\\_classification.py:1334: UndefinedMetricWarning: Precision and F-score are ill-defined and being set to 0.0 in labels with no predicted samples. Use `zero_division` parameter to control this behavior.\n",
            "  _warn_prf(average, modifier, msg_start, len(result))\n",
            "c:\\Users\\bigdipper\\AppData\\Local\\Programs\\Python\\Python310\\lib\\site-packages\\sklearn\\metrics\\_classification.py:1334: UndefinedMetricWarning: Precision and F-score are ill-defined and being set to 0.0 in labels with no predicted samples. Use `zero_division` parameter to control this behavior.\n",
            "  _warn_prf(average, modifier, msg_start, len(result))\n"
          ]
        }
      ],
      "source": [
        "import pandas as pd\n",
        "import seaborn as sns\n",
        "import matplotlib.pyplot as plt\n",
        "from sklearn.metrics import confusion_matrix, classification_report\n",
        "\n",
        "def print_confusion_matrix(y_true, y_pred, report=True):\n",
        "    labels = sorted(list(set(y_true)))\n",
        "    cmx_data = confusion_matrix(y_true, y_pred, labels=labels)\n",
        "    \n",
        "    df_cmx = pd.DataFrame(cmx_data, index=labels, columns=labels)\n",
        " \n",
        "    fig, ax = plt.subplots(figsize=(7, 6))\n",
        "    sns.heatmap(df_cmx, annot=True, fmt='g' ,square=False)\n",
        "    ax.set_ylim(len(set(y_true)), 0)\n",
        "    plt.show()\n",
        "    \n",
        "    if report:\n",
        "        print('Classification Report')\n",
        "        print(classification_report(y_test, y_pred))\n",
        "\n",
        "Y_pred = model.predict(X_test)\n",
        "y_pred = np.argmax(Y_pred, axis=1)\n",
        "\n",
        "print_confusion_matrix(y_test, y_pred)"
      ]
    },
    {
      "cell_type": "markdown",
      "metadata": {
        "id": "FNP6aqzc9hE5"
      },
      "source": [
        "# Convert to model for Tensorflow-Lite"
      ]
    },
    {
      "cell_type": "code",
      "execution_count": 165,
      "metadata": {
        "id": "ODjnYyld9hE6"
      },
      "outputs": [],
      "source": [
        "# Save as a model dedicated to inference\n",
        "model.save(model_save_path, include_optimizer=False)"
      ]
    },
    {
      "cell_type": "code",
      "execution_count": 166,
      "metadata": {
        "colab": {
          "base_uri": "https://localhost:8080/"
        },
        "id": "zRfuK8Y59hE6",
        "outputId": "a4ca585c-b5d5-4244-8291-8674063209bb"
      },
      "outputs": [
        {
          "name": "stdout",
          "output_type": "stream",
          "text": [
            "INFO:tensorflow:Assets written to: C:\\Users\\BIGDIP~1\\AppData\\Local\\Temp\\tmpd4y_i9ox\\assets\n"
          ]
        },
        {
          "name": "stderr",
          "output_type": "stream",
          "text": [
            "INFO:tensorflow:Assets written to: C:\\Users\\BIGDIP~1\\AppData\\Local\\Temp\\tmpd4y_i9ox\\assets\n"
          ]
        },
        {
          "data": {
            "text/plain": [
              "7576"
            ]
          },
          "execution_count": 166,
          "metadata": {},
          "output_type": "execute_result"
        }
      ],
      "source": [
        "# Transform model (quantization)\n",
        "\n",
        "converter = tf.lite.TFLiteConverter.from_keras_model(model)\n",
        "converter.optimizations = [tf.lite.Optimize.DEFAULT]\n",
        "tflite_quantized_model = converter.convert()\n",
        "\n",
        "open(tflite_save_path, 'wb').write(tflite_quantized_model)"
      ]
    },
    {
      "cell_type": "markdown",
      "metadata": {
        "id": "CHBPBXdx9hE6"
      },
      "source": [
        "# Inference test"
      ]
    },
    {
      "cell_type": "code",
      "execution_count": 167,
      "metadata": {
        "id": "mGAzLocO9hE7"
      },
      "outputs": [],
      "source": [
        "interpreter = tf.lite.Interpreter(model_path=tflite_save_path)\n",
        "interpreter.allocate_tensors()"
      ]
    },
    {
      "cell_type": "code",
      "execution_count": 168,
      "metadata": {
        "id": "oQuDK8YS9hE7"
      },
      "outputs": [],
      "source": [
        "# Get I / O tensor\n",
        "input_details = interpreter.get_input_details()\n",
        "output_details = interpreter.get_output_details()"
      ]
    },
    {
      "cell_type": "code",
      "execution_count": 169,
      "metadata": {
        "id": "2_ixAf_l9hE7"
      },
      "outputs": [],
      "source": [
        "interpreter.set_tensor(input_details[0]['index'], np.array([X_test[0]]))"
      ]
    },
    {
      "cell_type": "code",
      "execution_count": 170,
      "metadata": {
        "colab": {
          "base_uri": "https://localhost:8080/"
        },
        "id": "s4FoAnuc9hE7",
        "outputId": "91f18257-8d8b-4ef3-c558-e9b5f94fabbf",
        "scrolled": true
      },
      "outputs": [
        {
          "name": "stdout",
          "output_type": "stream",
          "text": [
            "CPU times: total: 0 ns\n",
            "Wall time: 999 µs\n"
          ]
        }
      ],
      "source": [
        "%%time\n",
        "# Inference implementation\n",
        "interpreter.invoke()\n",
        "tflite_results = interpreter.get_tensor(output_details[0]['index'])"
      ]
    },
    {
      "cell_type": "code",
      "execution_count": 171,
      "metadata": {
        "colab": {
          "base_uri": "https://localhost:8080/"
        },
        "id": "vONjp19J9hE8",
        "outputId": "77205e24-fd00-42c4-f7b6-e06e527c2cba"
      },
      "outputs": [
        {
          "name": "stdout",
          "output_type": "stream",
          "text": [
            "[7.9455078e-02 2.4950370e-05 3.5107904e-04 9.8540229e-05 9.6667744e-03\n",
            " 1.0746260e-03 1.6198444e-05 2.2359995e-05 2.1452686e-02 6.7505814e-09\n",
            " 4.4839668e-05 7.5006945e-05 5.9300613e-02 4.0131126e-02 6.9732298e-03\n",
            " 3.1685404e-04 5.4754486e-07 9.6611613e-05 2.9444149e-01 4.6131048e-01\n",
            " 2.8734032e-05 8.1443570e-05 1.8659923e-06 1.8138304e-02 6.8965983e-03\n",
            " 1.8101735e-09]\n",
            "19\n"
          ]
        }
      ],
      "source": [
        "print(np.squeeze(tflite_results))\n",
        "print(np.argmax(np.squeeze(tflite_results)))"
      ]
    },
    {
      "cell_type": "code",
      "execution_count": 172,
      "metadata": {},
      "outputs": [],
      "source": [
        "!tensorflowjs_converter --input_format=keras ./model/keypoint_classifier/keypoint_classifier.hdf5 ./model/tfjs_model"
      ]
    }
  ],
  "metadata": {
    "accelerator": "GPU",
    "colab": {
      "collapsed_sections": [],
      "name": "keypoint_classification_EN.ipynb",
      "provenance": [],
      "toc_visible": true
    },
    "kernelspec": {
      "display_name": "Python 3",
      "language": "python",
      "name": "python3"
    },
    "language_info": {
      "codemirror_mode": {
        "name": "ipython",
        "version": 3
      },
      "file_extension": ".py",
      "mimetype": "text/x-python",
      "name": "python",
      "nbconvert_exporter": "python",
      "pygments_lexer": "ipython3",
      "version": "3.10.8"
    },
    "vscode": {
      "interpreter": {
        "hash": "c68c95087a27fd8a35d2c5764983143c6ee9feb53e8aa797068fffe615e8f07e"
      }
    }
  },
  "nbformat": 4,
  "nbformat_minor": 0
}
